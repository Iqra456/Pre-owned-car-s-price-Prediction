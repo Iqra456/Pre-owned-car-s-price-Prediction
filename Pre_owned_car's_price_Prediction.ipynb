{
  "nbformat": 4,
  "nbformat_minor": 0,
  "metadata": {
    "colab": {
      "name": "Pre-owned car's price Prediction.ipynb",
      "provenance": [],
      "authorship_tag": "ABX9TyPjGSfRJJulhFKTXCAbZZZS",
      "include_colab_link": true
    },
    "kernelspec": {
      "name": "python3",
      "display_name": "Python 3"
    },
    "language_info": {
      "name": "python"
    }
  },
  "cells": [
    {
      "cell_type": "markdown",
      "metadata": {
        "id": "view-in-github",
        "colab_type": "text"
      },
      "source": [
        "<a href=\"https://colab.research.google.com/github/Iqra456/Pre-owned-car-s-price-Prediction/blob/main/Pre_owned_car's_price_Prediction.ipynb\" target=\"_parent\"><img src=\"https://colab.research.google.com/assets/colab-badge.svg\" alt=\"Open In Colab\"/></a>"
      ]
    },
    {
      "cell_type": "code",
      "metadata": {
        "id": "NjO80IWL4O1t"
      },
      "source": [
        "#importing libraries\n",
        "import pandas as pd\n",
        "import numpy as np\n",
        "import seaborn as sns\n",
        "from sklearn.model_selection import train_test_split\n",
        "from sklearn.linear_model import LinearRegression\n",
        "from sklearn.metrics import mean_squared_error"
      ],
      "execution_count": null,
      "outputs": []
    },
    {
      "cell_type": "code",
      "metadata": {
        "colab": {
          "base_uri": "https://localhost:8080/",
          "height": 307
        },
        "id": "jPLf7nWo4Szo",
        "outputId": "426486f6-8326-4b80-fb48-dcbbea4d23bc"
      },
      "source": [
        "#importing data\n",
        "cars_data = pd.read_csv(\"cars_sampled.csv\")\n",
        "cars_data.head(5)"
      ],
      "execution_count": null,
      "outputs": [
        {
          "output_type": "execute_result",
          "data": {
            "text/html": [
              "<div>\n",
              "<style scoped>\n",
              "    .dataframe tbody tr th:only-of-type {\n",
              "        vertical-align: middle;\n",
              "    }\n",
              "\n",
              "    .dataframe tbody tr th {\n",
              "        vertical-align: top;\n",
              "    }\n",
              "\n",
              "    .dataframe thead th {\n",
              "        text-align: right;\n",
              "    }\n",
              "</style>\n",
              "<table border=\"1\" class=\"dataframe\">\n",
              "  <thead>\n",
              "    <tr style=\"text-align: right;\">\n",
              "      <th></th>\n",
              "      <th>dateCrawled</th>\n",
              "      <th>name</th>\n",
              "      <th>seller</th>\n",
              "      <th>offerType</th>\n",
              "      <th>price</th>\n",
              "      <th>abtest</th>\n",
              "      <th>vehicleType</th>\n",
              "      <th>yearOfRegistration</th>\n",
              "      <th>gearbox</th>\n",
              "      <th>powerPS</th>\n",
              "      <th>model</th>\n",
              "      <th>kilometer</th>\n",
              "      <th>monthOfRegistration</th>\n",
              "      <th>fuelType</th>\n",
              "      <th>brand</th>\n",
              "      <th>notRepairedDamage</th>\n",
              "      <th>dateCreated</th>\n",
              "      <th>postalCode</th>\n",
              "      <th>lastSeen</th>\n",
              "    </tr>\n",
              "  </thead>\n",
              "  <tbody>\n",
              "    <tr>\n",
              "      <th>0</th>\n",
              "      <td>30/03/2016 13:51</td>\n",
              "      <td>Zu_verkaufen</td>\n",
              "      <td>private</td>\n",
              "      <td>offer</td>\n",
              "      <td>4450</td>\n",
              "      <td>test</td>\n",
              "      <td>limousine</td>\n",
              "      <td>2003</td>\n",
              "      <td>manual</td>\n",
              "      <td>150</td>\n",
              "      <td>3er</td>\n",
              "      <td>150000</td>\n",
              "      <td>3</td>\n",
              "      <td>diesel</td>\n",
              "      <td>bmw</td>\n",
              "      <td>NaN</td>\n",
              "      <td>30/03/2016 0:00</td>\n",
              "      <td>20257</td>\n",
              "      <td>7/4/2016 4:44</td>\n",
              "    </tr>\n",
              "    <tr>\n",
              "      <th>1</th>\n",
              "      <td>7/3/2016 9:54</td>\n",
              "      <td>Volvo_XC90_2.4D_Summum</td>\n",
              "      <td>private</td>\n",
              "      <td>offer</td>\n",
              "      <td>13299</td>\n",
              "      <td>control</td>\n",
              "      <td>suv</td>\n",
              "      <td>2005</td>\n",
              "      <td>manual</td>\n",
              "      <td>163</td>\n",
              "      <td>xc_reihe</td>\n",
              "      <td>150000</td>\n",
              "      <td>6</td>\n",
              "      <td>diesel</td>\n",
              "      <td>volvo</td>\n",
              "      <td>no</td>\n",
              "      <td>7/3/2016 0:00</td>\n",
              "      <td>88045</td>\n",
              "      <td>26/03/2016 13:17</td>\n",
              "    </tr>\n",
              "    <tr>\n",
              "      <th>2</th>\n",
              "      <td>1/4/2016 0:57</td>\n",
              "      <td>Volkswagen_Touran</td>\n",
              "      <td>private</td>\n",
              "      <td>offer</td>\n",
              "      <td>3200</td>\n",
              "      <td>test</td>\n",
              "      <td>bus</td>\n",
              "      <td>2003</td>\n",
              "      <td>manual</td>\n",
              "      <td>101</td>\n",
              "      <td>touran</td>\n",
              "      <td>150000</td>\n",
              "      <td>11</td>\n",
              "      <td>diesel</td>\n",
              "      <td>volkswagen</td>\n",
              "      <td>NaN</td>\n",
              "      <td>31/03/2016 0:00</td>\n",
              "      <td>27449</td>\n",
              "      <td>1/4/2016 8:40</td>\n",
              "    </tr>\n",
              "    <tr>\n",
              "      <th>3</th>\n",
              "      <td>19/03/2016 17:50</td>\n",
              "      <td>Seat_Ibiza_1.4_16V_Reference</td>\n",
              "      <td>private</td>\n",
              "      <td>offer</td>\n",
              "      <td>4500</td>\n",
              "      <td>control</td>\n",
              "      <td>small car</td>\n",
              "      <td>2006</td>\n",
              "      <td>manual</td>\n",
              "      <td>86</td>\n",
              "      <td>ibiza</td>\n",
              "      <td>60000</td>\n",
              "      <td>12</td>\n",
              "      <td>petrol</td>\n",
              "      <td>seat</td>\n",
              "      <td>no</td>\n",
              "      <td>19/03/2016 0:00</td>\n",
              "      <td>34537</td>\n",
              "      <td>7/4/2016 4:44</td>\n",
              "    </tr>\n",
              "    <tr>\n",
              "      <th>4</th>\n",
              "      <td>16/03/2016 14:51</td>\n",
              "      <td>Volvo_XC90_D5_Aut._RDesign_R_Design_AWD_GSHD_S...</td>\n",
              "      <td>private</td>\n",
              "      <td>offer</td>\n",
              "      <td>18750</td>\n",
              "      <td>test</td>\n",
              "      <td>suv</td>\n",
              "      <td>2008</td>\n",
              "      <td>automatic</td>\n",
              "      <td>185</td>\n",
              "      <td>xc_reihe</td>\n",
              "      <td>150000</td>\n",
              "      <td>11</td>\n",
              "      <td>diesel</td>\n",
              "      <td>volvo</td>\n",
              "      <td>no</td>\n",
              "      <td>16/03/2016 0:00</td>\n",
              "      <td>55270</td>\n",
              "      <td>1/4/2016 23:18</td>\n",
              "    </tr>\n",
              "  </tbody>\n",
              "</table>\n",
              "</div>"
            ],
            "text/plain": [
              "        dateCrawled  ...          lastSeen\n",
              "0  30/03/2016 13:51  ...     7/4/2016 4:44\n",
              "1     7/3/2016 9:54  ...  26/03/2016 13:17\n",
              "2     1/4/2016 0:57  ...     1/4/2016 8:40\n",
              "3  19/03/2016 17:50  ...     7/4/2016 4:44\n",
              "4  16/03/2016 14:51  ...    1/4/2016 23:18\n",
              "\n",
              "[5 rows x 19 columns]"
            ]
          },
          "metadata": {
            "tags": []
          },
          "execution_count": 2
        }
      ]
    },
    {
      "cell_type": "code",
      "metadata": {
        "id": "eKbE-eIx5jDy"
      },
      "source": [
        "#copy of cars_data\n",
        "cars = cars_data.copy()"
      ],
      "execution_count": null,
      "outputs": []
    },
    {
      "cell_type": "code",
      "metadata": {
        "colab": {
          "base_uri": "https://localhost:8080/"
        },
        "id": "eON-0W9-5mCx",
        "outputId": "fb3d98bd-c205-4cb3-c8c7-7adbbdc8605c"
      },
      "source": [
        "#data info\n",
        "cars.info()"
      ],
      "execution_count": null,
      "outputs": [
        {
          "output_type": "stream",
          "text": [
            "<class 'pandas.core.frame.DataFrame'>\n",
            "RangeIndex: 50001 entries, 0 to 50000\n",
            "Data columns (total 19 columns):\n",
            " #   Column               Non-Null Count  Dtype \n",
            "---  ------               --------------  ----- \n",
            " 0   dateCrawled          50001 non-null  object\n",
            " 1   name                 50001 non-null  object\n",
            " 2   seller               50001 non-null  object\n",
            " 3   offerType            50001 non-null  object\n",
            " 4   price                50001 non-null  int64 \n",
            " 5   abtest               50001 non-null  object\n",
            " 6   vehicleType          44813 non-null  object\n",
            " 7   yearOfRegistration   50001 non-null  int64 \n",
            " 8   gearbox              47177 non-null  object\n",
            " 9   powerPS              50001 non-null  int64 \n",
            " 10  model                47243 non-null  object\n",
            " 11  kilometer            50001 non-null  int64 \n",
            " 12  monthOfRegistration  50001 non-null  int64 \n",
            " 13  fuelType             45498 non-null  object\n",
            " 14  brand                50001 non-null  object\n",
            " 15  notRepairedDamage    40285 non-null  object\n",
            " 16  dateCreated          50001 non-null  object\n",
            " 17  postalCode           50001 non-null  int64 \n",
            " 18  lastSeen             50001 non-null  object\n",
            "dtypes: int64(6), object(13)\n",
            "memory usage: 7.2+ MB\n"
          ],
          "name": "stdout"
        }
      ]
    },
    {
      "cell_type": "code",
      "metadata": {
        "colab": {
          "base_uri": "https://localhost:8080/",
          "height": 295
        },
        "id": "yX8dsbRy5mEN",
        "outputId": "75580201-5896-4837-f7c6-6cc12e88600f"
      },
      "source": [
        "#summarizing data\n",
        "cars.describe()"
      ],
      "execution_count": null,
      "outputs": [
        {
          "output_type": "execute_result",
          "data": {
            "text/html": [
              "<div>\n",
              "<style scoped>\n",
              "    .dataframe tbody tr th:only-of-type {\n",
              "        vertical-align: middle;\n",
              "    }\n",
              "\n",
              "    .dataframe tbody tr th {\n",
              "        vertical-align: top;\n",
              "    }\n",
              "\n",
              "    .dataframe thead th {\n",
              "        text-align: right;\n",
              "    }\n",
              "</style>\n",
              "<table border=\"1\" class=\"dataframe\">\n",
              "  <thead>\n",
              "    <tr style=\"text-align: right;\">\n",
              "      <th></th>\n",
              "      <th>price</th>\n",
              "      <th>yearOfRegistration</th>\n",
              "      <th>powerPS</th>\n",
              "      <th>kilometer</th>\n",
              "      <th>monthOfRegistration</th>\n",
              "      <th>postalCode</th>\n",
              "    </tr>\n",
              "  </thead>\n",
              "  <tbody>\n",
              "    <tr>\n",
              "      <th>count</th>\n",
              "      <td>5.000100e+04</td>\n",
              "      <td>50001.000000</td>\n",
              "      <td>50001.000000</td>\n",
              "      <td>50001.000000</td>\n",
              "      <td>50001.000000</td>\n",
              "      <td>50001.000000</td>\n",
              "    </tr>\n",
              "    <tr>\n",
              "      <th>mean</th>\n",
              "      <td>6.559865e+03</td>\n",
              "      <td>2005.544229</td>\n",
              "      <td>116.496130</td>\n",
              "      <td>125613.687726</td>\n",
              "      <td>5.743725</td>\n",
              "      <td>50775.216696</td>\n",
              "    </tr>\n",
              "    <tr>\n",
              "      <th>std</th>\n",
              "      <td>8.581847e+04</td>\n",
              "      <td>122.991832</td>\n",
              "      <td>230.567709</td>\n",
              "      <td>40205.234483</td>\n",
              "      <td>3.711345</td>\n",
              "      <td>25743.701933</td>\n",
              "    </tr>\n",
              "    <tr>\n",
              "      <th>min</th>\n",
              "      <td>0.000000e+00</td>\n",
              "      <td>1000.000000</td>\n",
              "      <td>0.000000</td>\n",
              "      <td>5000.000000</td>\n",
              "      <td>0.000000</td>\n",
              "      <td>1067.000000</td>\n",
              "    </tr>\n",
              "    <tr>\n",
              "      <th>25%</th>\n",
              "      <td>1.150000e+03</td>\n",
              "      <td>1999.000000</td>\n",
              "      <td>69.000000</td>\n",
              "      <td>125000.000000</td>\n",
              "      <td>3.000000</td>\n",
              "      <td>30559.000000</td>\n",
              "    </tr>\n",
              "    <tr>\n",
              "      <th>50%</th>\n",
              "      <td>2.950000e+03</td>\n",
              "      <td>2003.000000</td>\n",
              "      <td>105.000000</td>\n",
              "      <td>150000.000000</td>\n",
              "      <td>6.000000</td>\n",
              "      <td>49504.000000</td>\n",
              "    </tr>\n",
              "    <tr>\n",
              "      <th>75%</th>\n",
              "      <td>7.190000e+03</td>\n",
              "      <td>2008.000000</td>\n",
              "      <td>150.000000</td>\n",
              "      <td>150000.000000</td>\n",
              "      <td>9.000000</td>\n",
              "      <td>71404.000000</td>\n",
              "    </tr>\n",
              "    <tr>\n",
              "      <th>max</th>\n",
              "      <td>1.234568e+07</td>\n",
              "      <td>9999.000000</td>\n",
              "      <td>19312.000000</td>\n",
              "      <td>150000.000000</td>\n",
              "      <td>12.000000</td>\n",
              "      <td>99998.000000</td>\n",
              "    </tr>\n",
              "  </tbody>\n",
              "</table>\n",
              "</div>"
            ],
            "text/plain": [
              "              price  yearOfRegistration  ...  monthOfRegistration    postalCode\n",
              "count  5.000100e+04        50001.000000  ...         50001.000000  50001.000000\n",
              "mean   6.559865e+03         2005.544229  ...             5.743725  50775.216696\n",
              "std    8.581847e+04          122.991832  ...             3.711345  25743.701933\n",
              "min    0.000000e+00         1000.000000  ...             0.000000   1067.000000\n",
              "25%    1.150000e+03         1999.000000  ...             3.000000  30559.000000\n",
              "50%    2.950000e+03         2003.000000  ...             6.000000  49504.000000\n",
              "75%    7.190000e+03         2008.000000  ...             9.000000  71404.000000\n",
              "max    1.234568e+07         9999.000000  ...            12.000000  99998.000000\n",
              "\n",
              "[8 rows x 6 columns]"
            ]
          },
          "metadata": {
            "tags": []
          },
          "execution_count": 5
        }
      ]
    },
    {
      "cell_type": "code",
      "metadata": {
        "id": "ABst36aC5mHy"
      },
      "source": [
        "#dropping unwanted columns\n",
        "col = ['name', 'dateCrawled', 'dateCreated', 'postalCode', 'lastSeen']\n",
        "cars = cars.drop(columns=col, axis=1)"
      ],
      "execution_count": null,
      "outputs": []
    },
    {
      "cell_type": "code",
      "metadata": {
        "id": "eKenjLgd5mJt"
      },
      "source": [
        "\n",
        "#Removing duplicates records\n",
        "cars.drop_duplicates(keep='first', inplace=True)"
      ],
      "execution_count": null,
      "outputs": []
    },
    {
      "cell_type": "code",
      "metadata": {
        "colab": {
          "base_uri": "https://localhost:8080/"
        },
        "id": "uJGLV4G05mNT",
        "outputId": "051bcf39-2b74-40b6-afaa-617d783cbd41"
      },
      "source": [
        "#data cleaning\n",
        "#missing values\n",
        "cars.isnull().sum()"
      ],
      "execution_count": null,
      "outputs": [
        {
          "output_type": "execute_result",
          "data": {
            "text/plain": [
              "seller                    0\n",
              "offerType                 0\n",
              "price                     0\n",
              "abtest                    0\n",
              "vehicleType            5152\n",
              "yearOfRegistration        0\n",
              "gearbox                2765\n",
              "powerPS                   0\n",
              "model                  2730\n",
              "kilometer                 0\n",
              "monthOfRegistration       0\n",
              "fuelType               4467\n",
              "brand                     0\n",
              "notRepairedDamage      9640\n",
              "dtype: int64"
            ]
          },
          "metadata": {
            "tags": []
          },
          "execution_count": 8
        }
      ]
    },
    {
      "cell_type": "markdown",
      "metadata": {
        "id": "reFdt8ix8Pou"
      },
      "source": [
        "# **Data Preprocessing**"
      ]
    },
    {
      "cell_type": "code",
      "metadata": {
        "colab": {
          "base_uri": "https://localhost:8080/"
        },
        "id": "vVZsQV_s5mSW",
        "outputId": "6d25e6dc-77e5-4e40-9b55-d68869ce6cd9"
      },
      "source": [
        "#variable yearOfRegistration\n",
        "cars['yearOfRegistration'].value_counts().sort_index()"
      ],
      "execution_count": null,
      "outputs": [
        {
          "output_type": "execute_result",
          "data": {
            "text/plain": [
              "1000     6\n",
              "1255     1\n",
              "1500     2\n",
              "1910    14\n",
              "1928     1\n",
              "        ..\n",
              "7500     1\n",
              "7800     1\n",
              "8500     1\n",
              "8888     2\n",
              "9999     7\n",
              "Name: yearOfRegistration, Length: 97, dtype: int64"
            ]
          },
          "metadata": {
            "tags": []
          },
          "execution_count": 11
        }
      ]
    },
    {
      "cell_type": "code",
      "metadata": {
        "colab": {
          "base_uri": "https://localhost:8080/",
          "height": 307
        },
        "id": "YxpN9idL5mTm",
        "outputId": "830191cb-49a1-43a0-b4f9-a87d456ccc51"
      },
      "source": [
        "sns.regplot(x=cars['yearOfRegistration'], y=cars['price'],\n",
        "           scatter=True, fit_reg=False)"
      ],
      "execution_count": null,
      "outputs": [
        {
          "output_type": "execute_result",
          "data": {
            "text/plain": [
              "<matplotlib.axes._subplots.AxesSubplot at 0x7f6a0e05abd0>"
            ]
          },
          "metadata": {
            "tags": []
          },
          "execution_count": 12
        },
        {
          "output_type": "display_data",
          "data": {
            "image/png": "[encoded data removed]",
            "text/plain": [
              "<Figure size 432x288 with 1 Axes>"
            ]
          },
          "metadata": {
            "tags": [],
            "needs_background": "light"
          }
        }
      ]
    },
    {
      "cell_type": "code",
      "metadata": {
        "colab": {
          "base_uri": "https://localhost:8080/",
          "height": 633
        },
        "id": "zjOpxjEu5mXd",
        "outputId": "06510e06-755a-43ec-c62d-805b8758eb4e"
      },
      "source": [
        "\n",
        "#variable price\n",
        "print(cars['price'].value_counts().sort_index())\n",
        "print(cars['price'].describe())\n",
        "sns.boxplot(y=cars['price'])"
      ],
      "execution_count": null,
      "outputs": [
        {
          "output_type": "stream",
          "text": [
            "0           1415\n",
            "1            172\n",
            "2              1\n",
            "3              1\n",
            "5              4\n",
            "            ... \n",
            "1250000        1\n",
            "2795000        1\n",
            "9999999        1\n",
            "10010011       1\n",
            "12345678       1\n",
            "Name: price, Length: 2393, dtype: int64\n",
            "count    4.953100e+04\n",
            "mean     6.567220e+03\n",
            "std      8.622238e+04\n",
            "min      0.000000e+00\n",
            "25%      1.150000e+03\n",
            "50%      2.950000e+03\n",
            "75%      7.100000e+03\n",
            "max      1.234568e+07\n",
            "Name: price, dtype: float64\n"
          ],
          "name": "stdout"
        },
        {
          "output_type": "execute_result",
          "data": {
            "text/plain": [
              "<matplotlib.axes._subplots.AxesSubplot at 0x7f6a0dfbc890>"
            ]
          },
          "metadata": {
            "tags": []
          },
          "execution_count": 13
        },
        {
          "output_type": "display_data",
          "data": {
            "image/png": "[encoded data removed]",
            "text/plain": [
              "<Figure size 432x288 with 1 Axes>"
            ]
          },
          "metadata": {
            "tags": [],
            "needs_background": "light"
          }
        }
      ]
    },
    {
      "cell_type": "code",
      "metadata": {
        "colab": {
          "base_uri": "https://localhost:8080/",
          "height": 702
        },
        "id": "vR4WGjwd5mZA",
        "outputId": "71f6fd99-0da5-4e81-f8c8-4440141548c9"
      },
      "source": [
        "#variable powerPS\n",
        "print(cars['powerPS'].value_counts().sort_index())\n",
        "print(cars['powerPS'].describe())\n",
        "sns.distplot(cars['powerPS'])"
      ],
      "execution_count": null,
      "outputs": [
        {
          "output_type": "stream",
          "text": [
            "0        5533\n",
            "1           3\n",
            "2           2\n",
            "3           2\n",
            "4           4\n",
            "         ... \n",
            "15033       1\n",
            "16011       1\n",
            "16312       1\n",
            "19211       1\n",
            "19312       1\n",
            "Name: powerPS, Length: 460, dtype: int64\n",
            "count    49531.000000\n",
            "mean       116.500515\n",
            "std        231.535603\n",
            "min          0.000000\n",
            "25%         69.000000\n",
            "50%        105.000000\n",
            "75%        150.000000\n",
            "max      19312.000000\n",
            "Name: powerPS, dtype: float64\n"
          ],
          "name": "stdout"
        },
        {
          "output_type": "stream",
          "text": [
            "/usr/local/lib/python3.7/dist-packages/seaborn/distributions.py:2557: FutureWarning: `distplot` is a deprecated function and will be removed in a future version. Please adapt your code to use either `displot` (a figure-level function with similar flexibility) or `histplot` (an axes-level function for histograms).\n",
            "  warnings.warn(msg, FutureWarning)\n"
          ],
          "name": "stderr"
        },
        {
          "output_type": "execute_result",
          "data": {
            "text/plain": [
              "<matplotlib.axes._subplots.AxesSubplot at 0x7f6a0dab8090>"
            ]
          },
          "metadata": {
            "tags": []
          },
          "execution_count": 14
        },
        {
          "output_type": "display_data",
          "data": {
            "image/png": "[encoded data removed]",
            "text/plain": [
              "<Figure size 432x288 with 1 Axes>"
            ]
          },
          "metadata": {
            "tags": [],
            "needs_background": "light"
          }
        }
      ]
    },
    {
      "cell_type": "code",
      "metadata": {
        "colab": {
          "base_uri": "https://localhost:8080/",
          "height": 270
        },
        "id": "8lJBXED55mcm",
        "outputId": "e0c978c7-3699-4f56-eebe-1a060237c8f4"
      },
      "source": [
        "#boxplot\n",
        "sns.boxplot(y=cars['powerPS'])"
      ],
      "execution_count": null,
      "outputs": [
        {
          "output_type": "execute_result",
          "data": {
            "text/plain": [
              "<matplotlib.axes._subplots.AxesSubplot at 0x7f6a026bee50>"
            ]
          },
          "metadata": {
            "tags": []
          },
          "execution_count": 15
        },
        {
          "output_type": "display_data",
          "data": {
            "image/png": "[encoded data removed]",
            "text/plain": [
              "<Figure size 432x288 with 1 Axes>"
            ]
          },
          "metadata": {
            "tags": [],
            "needs_background": "light"
          }
        }
      ]
    },
    {
      "cell_type": "code",
      "metadata": {
        "colab": {
          "base_uri": "https://localhost:8080/",
          "height": 307
        },
        "id": "LdOt7su75meQ",
        "outputId": "5bb30016-f6b5-4382-c8c1-7854b429b64d"
      },
      "source": [
        "#regplot\n",
        "sns.regplot(x=cars['powerPS'], y=cars['price'],\n",
        "           scatter=True, fit_reg=False)"
      ],
      "execution_count": null,
      "outputs": [
        {
          "output_type": "execute_result",
          "data": {
            "text/plain": [
              "<matplotlib.axes._subplots.AxesSubplot at 0x7f6a026aa910>"
            ]
          },
          "metadata": {
            "tags": []
          },
          "execution_count": 16
        },
        {
          "output_type": "display_data",
          "data": {
            "image/png": "[encoded data removed]",
            "text/plain": [
              "<Figure size 432x288 with 1 Axes>"
            ]
          },
          "metadata": {
            "tags": [],
            "needs_background": "light"
          }
        }
      ]
    },
    {
      "cell_type": "code",
      "metadata": {
        "id": "-I_DsU3V5mhs"
      },
      "source": [
        "#working range of data\n",
        "cars = cars[(cars.yearOfRegistration<=2018) &\n",
        "           (cars.yearOfRegistration>=1950) &\n",
        "           (cars.price>=100) &\n",
        "           (cars.price<=150000) &\n",
        "           (cars.powerPS>=10) &\n",
        "           (cars.powerPS<=500)]"
      ],
      "execution_count": null,
      "outputs": []
    },
    {
      "cell_type": "code",
      "metadata": {
        "colab": {
          "base_uri": "https://localhost:8080/"
        },
        "id": "b32s7GH-6Mz6",
        "outputId": "cd8a0401-fdba-42af-a9b1-b95894717001"
      },
      "source": [
        "#change in shape of data\n",
        "print(cars_data.shape)\n",
        "print(cars.shape)"
      ],
      "execution_count": null,
      "outputs": [
        {
          "output_type": "stream",
          "text": [
            "(50001, 19)\n",
            "(42772, 14)\n"
          ],
          "name": "stdout"
        }
      ]
    },
    {
      "cell_type": "code",
      "metadata": {
        "id": "XUcLuhsm6M2w"
      },
      "source": [
        "#combining yearOfRegistration and monthOfRegistration\n",
        "cars['monthOfRegistration']/=12"
      ],
      "execution_count": null,
      "outputs": []
    },
    {
      "cell_type": "code",
      "metadata": {
        "colab": {
          "base_uri": "https://localhost:8080/"
        },
        "id": "fjMLkvUQ6M7z",
        "outputId": "1cd57063-2e29-4089-a287-d87473ddddf6"
      },
      "source": [
        "#creating new variable\n",
        "cars['Age'] = (2018-cars['yearOfRegistration']) + cars['monthOfRegistration']\n",
        "cars['Age'] = round(cars['Age'],2)\n",
        "cars['Age'].describe()"
      ],
      "execution_count": null,
      "outputs": [
        {
          "output_type": "execute_result",
          "data": {
            "text/plain": [
              "count    42772.000000\n",
              "mean        14.872642\n",
              "std          7.093125\n",
              "min          0.000000\n",
              "25%         10.330000\n",
              "50%         14.830000\n",
              "75%         19.170000\n",
              "max         67.750000\n",
              "Name: Age, dtype: float64"
            ]
          },
          "metadata": {
            "tags": []
          },
          "execution_count": 20
        }
      ]
    },
    {
      "cell_type": "code",
      "metadata": {
        "id": "CnVvGW-R6M9f"
      },
      "source": [
        "#dropping yearOfRegistration and monthOfRegistration\n",
        "cars = cars.drop(columns=['yearOfRegistration', 'monthOfRegistration'], axis=1)"
      ],
      "execution_count": null,
      "outputs": []
    },
    {
      "cell_type": "code",
      "metadata": {
        "colab": {
          "base_uri": "https://localhost:8080/",
          "height": 296
        },
        "id": "TyresR9y6NBE",
        "outputId": "19064134-ea8a-419a-d34f-1f7e48b21aad"
      },
      "source": [
        "#age vs price\n",
        "sns.regplot(x=cars['Age'], y=cars['price'],\n",
        "           scatter=True, fit_reg=False) #with increase in age, price decreases"
      ],
      "execution_count": null,
      "outputs": [
        {
          "output_type": "execute_result",
          "data": {
            "text/plain": [
              "<matplotlib.axes._subplots.AxesSubplot at 0x7f6a025fdfd0>"
            ]
          },
          "metadata": {
            "tags": []
          },
          "execution_count": 22
        },
        {
          "output_type": "display_data",
          "data": {
            "image/png": "[encoded data removed]",
            "text/plain": [
              "<Figure size 432x288 with 1 Axes>"
            ]
          },
          "metadata": {
            "tags": [],
            "needs_background": "light"
          }
        }
      ]
    },
    {
      "cell_type": "code",
      "metadata": {
        "colab": {
          "base_uri": "https://localhost:8080/",
          "height": 296
        },
        "id": "-Cu9RmMZ6NCc",
        "outputId": "e3931d68-148f-46d3-b3e6-e1eecaa80a21"
      },
      "source": [
        "#powerPS vs price\n",
        "sns.regplot(x=cars['powerPS'], y=cars['price'],\n",
        "           scatter=True, fit_reg=False) #with increase in powerPS, price increases"
      ],
      "execution_count": null,
      "outputs": [
        {
          "output_type": "execute_result",
          "data": {
            "text/plain": [
              "<matplotlib.axes._subplots.AxesSubplot at 0x7f6a025af390>"
            ]
          },
          "metadata": {
            "tags": []
          },
          "execution_count": 23
        },
        {
          "output_type": "display_data",
          "data": {
            "image/png": "[encoded data removed]",
            "text/plain": [
              "<Figure size 432x288 with 1 Axes>"
            ]
          },
          "metadata": {
            "tags": [],
            "needs_background": "light"
          }
        }
      ]
    },
    {
      "cell_type": "code",
      "metadata": {
        "colab": {
          "base_uri": "https://localhost:8080/",
          "height": 192
        },
        "id": "osHkhthq6NGS",
        "outputId": "a94f0ba7-d8b0-4552-af08-59cb3c4dea00"
      },
      "source": [
        "#variable seller\n",
        "print(cars['seller'].value_counts())\n",
        "pd.crosstab(cars['seller'],columns='count', normalize=True) #insignificant variable"
      ],
      "execution_count": null,
      "outputs": [
        {
          "output_type": "stream",
          "text": [
            "private       42771\n",
            "commercial        1\n",
            "Name: seller, dtype: int64\n"
          ],
          "name": "stdout"
        },
        {
          "output_type": "execute_result",
          "data": {
            "text/html": [
              "<div>\n",
              "<style scoped>\n",
              "    .dataframe tbody tr th:only-of-type {\n",
              "        vertical-align: middle;\n",
              "    }\n",
              "\n",
              "    .dataframe tbody tr th {\n",
              "        vertical-align: top;\n",
              "    }\n",
              "\n",
              "    .dataframe thead th {\n",
              "        text-align: right;\n",
              "    }\n",
              "</style>\n",
              "<table border=\"1\" class=\"dataframe\">\n",
              "  <thead>\n",
              "    <tr style=\"text-align: right;\">\n",
              "      <th>col_0</th>\n",
              "      <th>count</th>\n",
              "    </tr>\n",
              "    <tr>\n",
              "      <th>seller</th>\n",
              "      <th></th>\n",
              "    </tr>\n",
              "  </thead>\n",
              "  <tbody>\n",
              "    <tr>\n",
              "      <th>commercial</th>\n",
              "      <td>0.000023</td>\n",
              "    </tr>\n",
              "    <tr>\n",
              "      <th>private</th>\n",
              "      <td>0.999977</td>\n",
              "    </tr>\n",
              "  </tbody>\n",
              "</table>\n",
              "</div>"
            ],
            "text/plain": [
              "col_0          count\n",
              "seller              \n",
              "commercial  0.000023\n",
              "private     0.999977"
            ]
          },
          "metadata": {
            "tags": []
          },
          "execution_count": 24
        }
      ]
    },
    {
      "cell_type": "code",
      "metadata": {
        "colab": {
          "base_uri": "https://localhost:8080/",
          "height": 144
        },
        "id": "L92Azo3t6NHe",
        "outputId": "b07d83cf-f00a-472a-d1aa-6aadc5855300"
      },
      "source": [
        "#variable OfferType\n",
        "print(cars['offerType'].value_counts())\n",
        "pd.crosstab(cars['offerType'],columns='count', normalize=True) #insignificant variable"
      ],
      "execution_count": null,
      "outputs": [
        {
          "output_type": "stream",
          "text": [
            "offer    42772\n",
            "Name: offerType, dtype: int64\n"
          ],
          "name": "stdout"
        },
        {
          "output_type": "execute_result",
          "data": {
            "text/html": [
              "<div>\n",
              "<style scoped>\n",
              "    .dataframe tbody tr th:only-of-type {\n",
              "        vertical-align: middle;\n",
              "    }\n",
              "\n",
              "    .dataframe tbody tr th {\n",
              "        vertical-align: top;\n",
              "    }\n",
              "\n",
              "    .dataframe thead th {\n",
              "        text-align: right;\n",
              "    }\n",
              "</style>\n",
              "<table border=\"1\" class=\"dataframe\">\n",
              "  <thead>\n",
              "    <tr style=\"text-align: right;\">\n",
              "      <th>col_0</th>\n",
              "      <th>count</th>\n",
              "    </tr>\n",
              "    <tr>\n",
              "      <th>offerType</th>\n",
              "      <th></th>\n",
              "    </tr>\n",
              "  </thead>\n",
              "  <tbody>\n",
              "    <tr>\n",
              "      <th>offer</th>\n",
              "      <td>1.0</td>\n",
              "    </tr>\n",
              "  </tbody>\n",
              "</table>\n",
              "</div>"
            ],
            "text/plain": [
              "col_0      count\n",
              "offerType       \n",
              "offer        1.0"
            ]
          },
          "metadata": {
            "tags": []
          },
          "execution_count": 25
        }
      ]
    },
    {
      "cell_type": "code",
      "metadata": {
        "colab": {
          "base_uri": "https://localhost:8080/",
          "height": 192
        },
        "id": "81oObifP6NMi",
        "outputId": "0bae16b5-54fd-4bf9-8fba-c9bebe0ab16f"
      },
      "source": [
        "#variable abtest\n",
        "print(cars['abtest'].value_counts())\n",
        "pd.crosstab(cars['abtest'],columns='count', normalize=True) #equally distributed - insignificant"
      ],
      "execution_count": null,
      "outputs": [
        {
          "output_type": "stream",
          "text": [
            "test       22128\n",
            "control    20644\n",
            "Name: abtest, dtype: int64\n"
          ],
          "name": "stdout"
        },
        {
          "output_type": "execute_result",
          "data": {
            "text/html": [
              "<div>\n",
              "<style scoped>\n",
              "    .dataframe tbody tr th:only-of-type {\n",
              "        vertical-align: middle;\n",
              "    }\n",
              "\n",
              "    .dataframe tbody tr th {\n",
              "        vertical-align: top;\n",
              "    }\n",
              "\n",
              "    .dataframe thead th {\n",
              "        text-align: right;\n",
              "    }\n",
              "</style>\n",
              "<table border=\"1\" class=\"dataframe\">\n",
              "  <thead>\n",
              "    <tr style=\"text-align: right;\">\n",
              "      <th>col_0</th>\n",
              "      <th>count</th>\n",
              "    </tr>\n",
              "    <tr>\n",
              "      <th>abtest</th>\n",
              "      <th></th>\n",
              "    </tr>\n",
              "  </thead>\n",
              "  <tbody>\n",
              "    <tr>\n",
              "      <th>control</th>\n",
              "      <td>0.482652</td>\n",
              "    </tr>\n",
              "    <tr>\n",
              "      <th>test</th>\n",
              "      <td>0.517348</td>\n",
              "    </tr>\n",
              "  </tbody>\n",
              "</table>\n",
              "</div>"
            ],
            "text/plain": [
              "col_0       count\n",
              "abtest           \n",
              "control  0.482652\n",
              "test     0.517348"
            ]
          },
          "metadata": {
            "tags": []
          },
          "execution_count": 26
        }
      ]
    },
    {
      "cell_type": "code",
      "metadata": {
        "colab": {
          "base_uri": "https://localhost:8080/",
          "height": 615
        },
        "id": "4ln7NQ2I5mkh",
        "outputId": "23ff844d-60bf-4e4e-83e0-f7a2936c7af4"
      },
      "source": [
        "\n",
        "#variable vehicleType\n",
        "print(cars['vehicleType'].value_counts())\n",
        "print(pd.crosstab(cars['vehicleType'],columns='count', normalize=True))\n",
        "sns.countplot(x='vehicleType', data=cars)        #vehicleType affects price"
      ],
      "execution_count": null,
      "outputs": [
        {
          "output_type": "stream",
          "text": [
            "limousine        11746\n",
            "small car         9285\n",
            "station wagon     8076\n",
            "bus               3597\n",
            "cabrio            2792\n",
            "coupe             2261\n",
            "suv               1813\n",
            "others             326\n",
            "Name: vehicleType, dtype: int64\n",
            "col_0             count\n",
            "vehicleType            \n",
            "bus            0.090159\n",
            "cabrio         0.069982\n",
            "coupe          0.056672\n",
            "limousine      0.294415\n",
            "others         0.008171\n",
            "small car      0.232730\n",
            "station wagon  0.202426\n",
            "suv            0.045443\n"
          ],
          "name": "stdout"
        },
        {
          "output_type": "execute_result",
          "data": {
            "text/plain": [
              "<matplotlib.axes._subplots.AxesSubplot at 0x7f6a02529f90>"
            ]
          },
          "metadata": {
            "tags": []
          },
          "execution_count": 27
        },
        {
          "output_type": "display_data",
          "data": {
            "image/png": "[encoded data removed]",
            "text/plain": [
              "<Figure size 432x288 with 1 Axes>"
            ]
          },
          "metadata": {
            "tags": [],
            "needs_background": "light"
          }
        }
      ]
    },
    {
      "cell_type": "code",
      "metadata": {
        "colab": {
          "base_uri": "https://localhost:8080/",
          "height": 414
        },
        "id": "j68MzVXI6sk7",
        "outputId": "3ec4af40-7573-45ea-cba9-847cfdd05603"
      },
      "source": [
        "#variable gearbox\n",
        "print(cars['gearbox'].value_counts())\n",
        "print(pd.crosstab(cars['gearbox'],columns='count', normalize=True))\n",
        "sns.countplot(x='gearbox', data=cars)        #gearbox affects price"
      ],
      "execution_count": null,
      "outputs": [
        {
          "output_type": "stream",
          "text": [
            "manual       32582\n",
            "automatic     9396\n",
            "Name: gearbox, dtype: int64\n",
            "col_0         count\n",
            "gearbox            \n",
            "automatic  0.223832\n",
            "manual     0.776168\n"
          ],
          "name": "stdout"
        },
        {
          "output_type": "execute_result",
          "data": {
            "text/plain": [
              "<matplotlib.axes._subplots.AxesSubplot at 0x7f6a024ba590>"
            ]
          },
          "metadata": {
            "tags": []
          },
          "execution_count": 28
        },
        {
          "output_type": "display_data",
          "data": {
            "image/png": "[encoded data removed]",
            "text/plain": [
              "<Figure size 432x288 with 1 Axes>"
            ]
          },
          "metadata": {
            "tags": [],
            "needs_background": "light"
          }
        }
      ]
    },
    {
      "cell_type": "code",
      "metadata": {
        "colab": {
          "base_uri": "https://localhost:8080/",
          "height": 750
        },
        "id": "dHFzpfFQ6smZ",
        "outputId": "579c119f-7cf3-4135-bd5a-30b745b31dc3"
      },
      "source": [
        "\n",
        "#variable model\n",
        "print(cars['model'].value_counts())\n",
        "print(pd.crosstab(cars['model'],columns='count', normalize=True))\n",
        "sns.countplot(x='model', data=cars)      #distributed over many models"
      ],
      "execution_count": null,
      "outputs": [
        {
          "output_type": "stream",
          "text": [
            "golf          3478\n",
            "others        2900\n",
            "3er           2482\n",
            "polo          1500\n",
            "corsa         1386\n",
            "              ... \n",
            "serie_2          1\n",
            "200              1\n",
            "serie_3          1\n",
            "elefantino       1\n",
            "rangerover       1\n",
            "Name: model, Length: 247, dtype: int64\n",
            "col_0       count\n",
            "model            \n",
            "100      0.001144\n",
            "145      0.000097\n",
            "147      0.001412\n",
            "156      0.001582\n",
            "159      0.000462\n",
            "...           ...\n",
            "yaris    0.003213\n",
            "yeti     0.000657\n",
            "ypsilon  0.000535\n",
            "z_reihe  0.003018\n",
            "zafira   0.007910\n",
            "\n",
            "[247 rows x 1 columns]\n"
          ],
          "name": "stdout"
        },
        {
          "output_type": "execute_result",
          "data": {
            "text/plain": [
              "<matplotlib.axes._subplots.AxesSubplot at 0x7f6a02397e10>"
            ]
          },
          "metadata": {
            "tags": []
          },
          "execution_count": 29
        },
        {
          "output_type": "display_data",
          "data": {
            "image/png": "[encoded data removed]",
            "text/plain": [
              "<Figure size 432x288 with 1 Axes>"
            ]
          },
          "metadata": {
            "tags": [],
            "needs_background": "light"
          }
        }
      ]
    },
    {
      "cell_type": "code",
      "metadata": {
        "colab": {
          "base_uri": "https://localhost:8080/",
          "height": 783
        },
        "id": "jdY7j5tP6sqE",
        "outputId": "93c00831-5012-4a97-9f1d-0cc748813385"
      },
      "source": [
        "#variable kilometer\n",
        "print(cars['kilometer'].value_counts())\n",
        "print(pd.crosstab(cars['kilometer'],columns='count', normalize=True))\n",
        "sns.regplot(x=cars['kilometer'], y=cars['price'],\n",
        "           scatter=True, fit_reg=False)      #considered in modelling"
      ],
      "execution_count": null,
      "outputs": [
        {
          "output_type": "stream",
          "text": [
            "150000    27430\n",
            "125000     4597\n",
            "100000     1824\n",
            "90000      1484\n",
            "80000      1378\n",
            "70000      1182\n",
            "60000      1101\n",
            "50000       932\n",
            "40000       795\n",
            "30000       712\n",
            "20000       651\n",
            "5000        479\n",
            "10000       207\n",
            "Name: kilometer, dtype: int64\n",
            "col_0         count\n",
            "kilometer          \n",
            "5000       0.011199\n",
            "10000      0.004840\n",
            "20000      0.015220\n",
            "30000      0.016646\n",
            "40000      0.018587\n",
            "50000      0.021790\n",
            "60000      0.025741\n",
            "70000      0.027635\n",
            "80000      0.032217\n",
            "90000      0.034696\n",
            "100000     0.042645\n",
            "125000     0.107477\n",
            "150000     0.641307\n"
          ],
          "name": "stdout"
        },
        {
          "output_type": "execute_result",
          "data": {
            "text/plain": [
              "<matplotlib.axes._subplots.AxesSubplot at 0x7f6a02417b10>"
            ]
          },
          "metadata": {
            "tags": []
          },
          "execution_count": 30
        },
        {
          "output_type": "display_data",
          "data": {
            "image/png": "[encoded data removed]",
            "text/plain": [
              "<Figure size 432x288 with 1 Axes>"
            ]
          },
          "metadata": {
            "tags": [],
            "needs_background": "light"
          }
        }
      ]
    },
    {
      "cell_type": "code",
      "metadata": {
        "colab": {
          "base_uri": "https://localhost:8080/",
          "height": 582
        },
        "id": "7__l-C2E6sr4",
        "outputId": "f5eec739-27e1-4945-d25c-bf2fe52fde4b"
      },
      "source": [
        "#variable fuelType\n",
        "print(cars['fuelType'].value_counts())\n",
        "print(pd.crosstab(cars['fuelType'],columns='count', normalize=True))\n",
        "sns.countplot(x='fuelType', data=cars)      #fuelType affects price"
      ],
      "execution_count": null,
      "outputs": [
        {
          "output_type": "stream",
          "text": [
            "petrol     26509\n",
            "diesel     12854\n",
            "lpg          690\n",
            "cng           70\n",
            "hybrid        36\n",
            "electro       10\n",
            "other          6\n",
            "Name: fuelType, dtype: int64\n",
            "col_0        count\n",
            "fuelType          \n",
            "cng       0.001742\n",
            "diesel    0.319950\n",
            "electro   0.000249\n",
            "hybrid    0.000896\n",
            "lpg       0.017175\n",
            "other     0.000149\n",
            "petrol    0.659838\n"
          ],
          "name": "stdout"
        },
        {
          "output_type": "execute_result",
          "data": {
            "text/plain": [
              "<matplotlib.axes._subplots.AxesSubplot at 0x7f6a01d55f90>"
            ]
          },
          "metadata": {
            "tags": []
          },
          "execution_count": 31
        },
        {
          "output_type": "display_data",
          "data": {
            "image/png": "[encoded data removed]",
            "text/plain": [
              "<Figure size 432x288 with 1 Axes>"
            ]
          },
          "metadata": {
            "tags": [],
            "needs_background": "light"
          }
        }
      ]
    },
    {
      "cell_type": "code",
      "metadata": {
        "colab": {
          "base_uri": "https://localhost:8080/",
          "height": 1000
        },
        "id": "VzVMFHnm6svN",
        "outputId": "c5485af9-f914-46fd-c746-c7c0af3e00eb"
      },
      "source": [
        "#variable brand\n",
        "print(cars['brand'].value_counts())\n",
        "print(pd.crosstab(cars['brand'],columns='count', normalize=True))\n",
        "sns.countplot(x='brand', data=cars)      #distributed over many brands"
      ],
      "execution_count": null,
      "outputs": [
        {
          "output_type": "stream",
          "text": [
            "volkswagen        9134\n",
            "bmw               4868\n",
            "opel              4487\n",
            "mercedes_benz     4134\n",
            "audi              3984\n",
            "ford              2815\n",
            "renault           1941\n",
            "peugeot           1323\n",
            "fiat               996\n",
            "seat               886\n",
            "skoda              698\n",
            "mazda              663\n",
            "smart              623\n",
            "nissan             601\n",
            "citroen            598\n",
            "toyota             547\n",
            "volvo              429\n",
            "mini               428\n",
            "hyundai            406\n",
            "mitsubishi         359\n",
            "honda              300\n",
            "sonstige_autos     299\n",
            "kia                276\n",
            "suzuki             264\n",
            "porsche            260\n",
            "alfa_romeo         245\n",
            "chevrolet          213\n",
            "chrysler           151\n",
            "dacia              123\n",
            "subaru             112\n",
            "jeep                91\n",
            "land_rover          81\n",
            "jaguar              78\n",
            "daihatsu            67\n",
            "saab                65\n",
            "lancia              56\n",
            "daewoo              53\n",
            "rover               53\n",
            "trabant             43\n",
            "lada                22\n",
            "Name: brand, dtype: int64\n",
            "col_0              count\n",
            "brand                   \n",
            "alfa_romeo      0.005728\n",
            "audi            0.093145\n",
            "bmw             0.113813\n",
            "chevrolet       0.004980\n",
            "chrysler        0.003530\n",
            "citroen         0.013981\n",
            "dacia           0.002876\n",
            "daewoo          0.001239\n",
            "daihatsu        0.001566\n",
            "fiat            0.023286\n",
            "ford            0.065814\n",
            "honda           0.007014\n",
            "hyundai         0.009492\n",
            "jaguar          0.001824\n",
            "jeep            0.002128\n",
            "kia             0.006453\n",
            "lada            0.000514\n",
            "lancia          0.001309\n",
            "land_rover      0.001894\n",
            "mazda           0.015501\n",
            "mercedes_benz   0.096652\n",
            "mini            0.010007\n",
            "mitsubishi      0.008393\n",
            "nissan          0.014051\n",
            "opel            0.104905\n",
            "peugeot         0.030931\n",
            "porsche         0.006079\n",
            "renault         0.045380\n",
            "rover           0.001239\n",
            "saab            0.001520\n",
            "seat            0.020714\n",
            "skoda           0.016319\n",
            "smart           0.014566\n",
            "sonstige_autos  0.006991\n",
            "subaru          0.002619\n",
            "suzuki          0.006172\n",
            "toyota          0.012789\n",
            "trabant         0.001005\n",
            "volkswagen      0.213551\n",
            "volvo           0.010030\n"
          ],
          "name": "stdout"
        },
        {
          "output_type": "execute_result",
          "data": {
            "text/plain": [
              "<matplotlib.axes._subplots.AxesSubplot at 0x7f6a02323990>"
            ]
          },
          "metadata": {
            "tags": []
          },
          "execution_count": 32
        },
        {
          "output_type": "display_data",
          "data": {
            "image/png": "[encoded data removed]",
            "text/plain": [
              "<Figure size 432x288 with 1 Axes>"
            ]
          },
          "metadata": {
            "tags": [],
            "needs_background": "light"
          }
        }
      ]
    },
    {
      "cell_type": "code",
      "metadata": {
        "colab": {
          "base_uri": "https://localhost:8080/",
          "height": 414
        },
        "id": "0sYxrNGz6sxF",
        "outputId": "b0b5a8e7-3329-4e5d-9106-b02cb9c83cab"
      },
      "source": [
        "#variable notRepairedDamage\n",
        "print(cars['notRepairedDamage'].value_counts())\n",
        "print(pd.crosstab(cars['notRepairedDamage'],columns='count', normalize=True))\n",
        "sns.countplot(x='notRepairedDamage', data=cars)      #fall under lower price range"
      ],
      "execution_count": null,
      "outputs": [
        {
          "output_type": "stream",
          "text": [
            "no     32507\n",
            "yes     3988\n",
            "Name: notRepairedDamage, dtype: int64\n",
            "col_0                 count\n",
            "notRepairedDamage          \n",
            "no                 0.890725\n",
            "yes                0.109275\n"
          ],
          "name": "stdout"
        },
        {
          "output_type": "execute_result",
          "data": {
            "text/plain": [
              "<matplotlib.axes._subplots.AxesSubplot at 0x7f6a01bf4b90>"
            ]
          },
          "metadata": {
            "tags": []
          },
          "execution_count": 33
        },
        {
          "output_type": "display_data",
          "data": {
            "image/png": "[encoded data removed]",
            "text/plain": [
              "<Figure size 432x288 with 1 Axes>"
            ]
          },
          "metadata": {
            "tags": [],
            "needs_background": "light"
          }
        }
      ]
    },
    {
      "cell_type": "code",
      "metadata": {
        "colab": {
          "base_uri": "https://localhost:8080/"
        },
        "id": "envsJUAA6s0B",
        "outputId": "ce40e681-7702-4e8e-b664-e8ae2dabbaf7"
      },
      "source": [
        "#Removing insignificant variables\n",
        "cols = ['seller', 'offerType', 'abtest']\n",
        "cars = cars.drop(columns=cols, axis=1)\n",
        "print(cars.shape)\n",
        "\n"
      ],
      "execution_count": null,
      "outputs": [
        {
          "output_type": "stream",
          "text": [
            "(42772, 10)\n"
          ],
          "name": "stdout"
        }
      ]
    },
    {
      "cell_type": "code",
      "metadata": {
        "colab": {
          "base_uri": "https://localhost:8080/"
        },
        "id": "k3lpUbQv7ihb",
        "outputId": "68b66cbb-f300-4484-f82b-cf6ba511502f"
      },
      "source": [
        "#correlation\n",
        "cars_select1 = cars.select_dtypes(exclude=[object])\n",
        "correlation = cars_select1.corr()\n",
        "round(correlation,3)\n",
        "cars_select1.corr().loc[:,'price'].abs().sort_values(ascending=False)[1:]"
      ],
      "execution_count": null,
      "outputs": [
        {
          "output_type": "execute_result",
          "data": {
            "text/plain": [
              "powerPS      0.575234\n",
              "kilometer    0.440138\n",
              "Age          0.335821\n",
              "Name: price, dtype: float64"
            ]
          },
          "metadata": {
            "tags": []
          },
          "execution_count": 35
        }
      ]
    },
    {
      "cell_type": "code",
      "metadata": {
        "colab": {
          "base_uri": "https://localhost:8080/"
        },
        "id": "qO78Ifrr7ijP",
        "outputId": "29a1b35e-6a40-41c8-9b82-56483b0c80d4"
      },
      "source": [
        "#omitting missing values\n",
        "cars_omit = cars.dropna(axis=0)\n",
        "cars_omit.isnull().sum()"
      ],
      "execution_count": null,
      "outputs": [
        {
          "output_type": "execute_result",
          "data": {
            "text/plain": [
              "price                0\n",
              "vehicleType          0\n",
              "gearbox              0\n",
              "powerPS              0\n",
              "model                0\n",
              "kilometer            0\n",
              "fuelType             0\n",
              "brand                0\n",
              "notRepairedDamage    0\n",
              "Age                  0\n",
              "dtype: int64"
            ]
          },
          "metadata": {
            "tags": []
          },
          "execution_count": 36
        }
      ]
    },
    {
      "cell_type": "code",
      "metadata": {
        "id": "5g_ve6JD7ioV"
      },
      "source": [
        "#converting categorical variables to dummy variables\n",
        "cars_omit = pd.get_dummies(cars_omit, drop_first=True)"
      ],
      "execution_count": null,
      "outputs": []
    },
    {
      "cell_type": "markdown",
      "metadata": {
        "id": "T0QehoTs80tx"
      },
      "source": [
        "# **Model building with omitted data**\n",
        "\n",
        "**LINEAR REGRESSION**\n",
        "\n",
        "\n"
      ]
    },
    {
      "cell_type": "code",
      "metadata": {
        "id": "0NfGs8MX7is0"
      },
      "source": [
        "#separating input and output features\n",
        "x = cars_omit.drop(['price'], axis='columns', inplace=False)\n",
        "y = cars_omit['price']"
      ],
      "execution_count": null,
      "outputs": []
    },
    {
      "cell_type": "code",
      "metadata": {
        "id": "bsGF1kQs7iuX"
      },
      "source": [
        "#transforming price as a logarithms value\n",
        "y = np.log(y)"
      ],
      "execution_count": null,
      "outputs": []
    },
    {
      "cell_type": "code",
      "metadata": {
        "colab": {
          "base_uri": "https://localhost:8080/"
        },
        "id": "5bzOcjQj7iyw",
        "outputId": "4ac9d4ef-4010-431e-f7ac-a14a41489bb8"
      },
      "source": [
        "#splitting data into train and test\n",
        "x_train, x_test, y_train, y_test = train_test_split(x, y, test_size=0.3, random_state=3)\n",
        "print(x_train.shape, x_test.shape, y_train.shape, y_test.shape)"
      ],
      "execution_count": null,
      "outputs": [
        {
          "output_type": "stream",
          "text": [
            "(23018, 300) (9866, 300) (23018,) (9866,)\n"
          ],
          "name": "stdout"
        }
      ]
    },
    {
      "cell_type": "code",
      "metadata": {
        "colab": {
          "base_uri": "https://localhost:8080/"
        },
        "id": "t16ZnXMa7i0U",
        "outputId": "cc1b8c5a-5548-4a0a-832c-93a8d3d01ab2"
      },
      "source": [
        "\n",
        "#Baseline model for omitted data\n",
        "#finding the mean for test data\n",
        "base_pred = np.mean(y_test)\n",
        "print(base_pred)\n",
        "#repeating some values till length of test data\n",
        "base_pred = np.repeat(base_pred, len(y_test))\n",
        "#finding the RMSE\n",
        "base_rmse = np.sqrt(mean_squared_error(y_test, base_pred))\n",
        "print(\"Baseline RMSE : \",base_rmse)"
      ],
      "execution_count": null,
      "outputs": [
        {
          "output_type": "stream",
          "text": [
            "8.249615787653337\n",
            "Baseline RMSE :  1.1274483657478247\n"
          ],
          "name": "stdout"
        }
      ]
    },
    {
      "cell_type": "code",
      "metadata": {
        "id": "ZOgKHddC77KU"
      },
      "source": [
        "#Linear Regression with omitted data\n",
        "#setting intercept as true\n",
        "lgr = LinearRegression(fit_intercept=True)\n",
        "#model\n",
        "model_LR = lgr.fit(x_train, y_train)\n",
        "#predicting model on test data\n",
        "cars_prediction_LR = lgr.predict(x_test)"
      ],
      "execution_count": null,
      "outputs": []
    },
    {
      "cell_type": "code",
      "metadata": {
        "colab": {
          "base_uri": "https://localhost:8080/"
        },
        "id": "4t86hFnA77MG",
        "outputId": "ddba8b28-676e-428d-db51-004939142e93"
      },
      "source": [
        "\n",
        "#computing MSE AND RMSE\n",
        "LR_mse = mean_squared_error(y_test, cars_prediction_LR)\n",
        "LR_rmse = np.sqrt(LR_mse)\n",
        "print(\"MSE : \",LR_mse)\n",
        "print(\"RMSE : \",LR_rmse)"
      ],
      "execution_count": null,
      "outputs": [
        {
          "output_type": "stream",
          "text": [
            "MSE :  0.2976227584928348\n",
            "RMSE :  0.5455481266513843\n"
          ],
          "name": "stdout"
        }
      ]
    },
    {
      "cell_type": "code",
      "metadata": {
        "colab": {
          "base_uri": "https://localhost:8080/"
        },
        "id": "_KykfRDp77R3",
        "outputId": "e51f6b9c-5e83-4919-c072-f81344b22e75"
      },
      "source": [
        "\n",
        "#R-Squared value\n",
        "LR_test = model_LR.score(x_test, y_test)\n",
        "LR_train = model_LR.score(x_train, y_train)\n",
        "print(\"test set : \",LR_test)\n",
        "print(\"train set : \",LR_train)"
      ],
      "execution_count": null,
      "outputs": [
        {
          "output_type": "stream",
          "text": [
            "test set :  0.7658615091649241\n",
            "train set :  0.7800936978183916\n"
          ],
          "name": "stdout"
        }
      ]
    },
    {
      "cell_type": "code",
      "metadata": {
        "colab": {
          "base_uri": "https://localhost:8080/",
          "height": 416
        },
        "id": "89s_4daG77TQ",
        "outputId": "ade45ecf-7499-4214-b556-485091ee284e"
      },
      "source": [
        "\n",
        "#Regression Diagonistics - Residual plot analysis\n",
        "residual = y_test-cars_prediction_LR\n",
        "sns.regplot(x=cars_prediction_LR, y=residual, scatter=True, fit_reg=False, data=cars)\n",
        "print(residual.describe())"
      ],
      "execution_count": null,
      "outputs": [
        {
          "output_type": "stream",
          "text": [
            "count    9866.000000\n",
            "mean        0.003352\n",
            "std         0.545565\n",
            "min        -5.796435\n",
            "25%        -0.260941\n",
            "50%         0.041057\n",
            "75%         0.301637\n",
            "max         4.547147\n",
            "Name: price, dtype: float64\n"
          ],
          "name": "stdout"
        },
        {
          "output_type": "display_data",
          "data": {
            "image/png": "[encoded data removed]",
            "text/plain": [
              "<Figure size 432x288 with 1 Axes>"
            ]
          },
          "metadata": {
            "tags": [],
            "needs_background": "light"
          }
        }
      ]
    }
  ]
}